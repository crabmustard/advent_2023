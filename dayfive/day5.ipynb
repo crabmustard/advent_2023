{
 "cells": [
  {
   "cell_type": "code",
   "execution_count": 1,
   "metadata": {},
   "outputs": [],
   "source": [
    "from pprint import pprint\n"
   ]
  },
  {
   "cell_type": "code",
   "execution_count": 2,
   "metadata": {},
   "outputs": [
    {
     "ename": "",
     "evalue": "",
     "output_type": "error",
     "traceback": [
      "\u001b[1;31mThe Kernel crashed while executing code in the the current cell or a previous cell. Please review the code in the cell(s) to identify a possible cause of the failure. Click <a href='https://aka.ms/vscodeJupyterKernelCrash'>here</a> for more info. View Jupyter <a href='command:jupyter.viewOutput'>log</a> for further details."
     ]
    }
   ],
   "source": [
    "def make_nac(file):\n",
    "    with open(file, 'r') as f:\n",
    "        nac = f.read()\n",
    "        f.close()\n",
    "    return nac\n",
    "\n",
    "def process_almanac(nac):\n",
    "    new_a = list(filter(lambda x: len(x) > 0, nac.split('\\n\\n')))\n",
    "    seeds, soil, fert, water, light, temp, hum, loc = new_a\n",
    "    p_seeds = process_seeds(seeds)\n",
    "    p_soil = process_next(soil, p_seeds)\n",
    "    p_fert = process_next(fert, p_soil)\n",
    "    p_water = process_next(water, p_fert)\n",
    "    p_light = process_next(light, p_water)\n",
    "    p_temp = process_next(temp, p_light)\n",
    "    p_hum = process_next(hum, p_temp)\n",
    "    p_loc = process_next(loc, p_hum)\n",
    "    return [p_seeds, p_soil, p_fert, p_water, p_light, p_temp, p_hum, p_loc]\n",
    "\n",
    "def process_almanac_two(nac):\n",
    "    new_a = list(filter(lambda x: len(x) > 0, nac.split('\\n\\n')))\n",
    "    seeds, soil, fert, water, light, temp, hum, loc = new_a\n",
    "    p_seeds = process_seeds(seeds)\n",
    "    m_seeds = process_a_lot_of_seeds(p_seeds)\n",
    "    # p_soil = process_next(soil, m_seeds)\n",
    "    # p_fert = process_next(fert, p_soil)\n",
    "    # p_water = process_next(water, p_fert)\n",
    "    # p_light = process_next(light, p_water)\n",
    "    # p_temp = process_next(temp, p_light)\n",
    "    # p_hum = process_next(hum, p_temp)\n",
    "    # p_loc = process_next(loc, p_hum)\n",
    "    # return [p_seeds, p_soil, p_fert, p_water, p_light, p_temp, p_hum, p_loc]\n",
    "\n",
    "\n",
    "def process_seeds(seedline):\n",
    "    linein = seedline\n",
    "    colon = linein.find(':')\n",
    "    seed_list = linein[colon + 1:].split()\n",
    "    seed_list = [int(i) for i in seed_list] \n",
    "    return seed_list\n",
    "\n",
    "def process_a_lot_of_seeds(seed_list):\n",
    "    seed_pairs = []\n",
    "    all_the_seeds = []\n",
    "    for i in range(0, len(seed_list), 2):\n",
    "        seed_pairs.append([seed_list[i],seed_list[i+1]])\n",
    "    for i in seed_pairs:\n",
    "        for j in range(i[1]):\n",
    "            all_the_seeds.append(j + i[0])\n",
    "    print(all_the_seeds)\n",
    "    return all_the_seeds\n",
    "    \n",
    "def process_next(this_map, targets):\n",
    "    results = []\n",
    "    colon = this_map.find(':')\n",
    "    smp = this_map[colon + 1:].strip().split('\\n')\n",
    "    for i in range(len(smp)):\n",
    "        smp[i] = smp[i].split()\n",
    "        for j in range(len(smp[i])):\n",
    "            smp[i][j] = int(smp[i][j])\n",
    "    for target in targets:\n",
    "        f = False\n",
    "        for shift in smp:\n",
    "            if f == True: break\n",
    "            if target in range(shift[1], shift[2] + shift[1]):\n",
    "                results.append(shift[0] + (target - shift[1]))\n",
    "                f = True\n",
    "                break\n",
    "        if f == False: results.append(target)\n",
    "\n",
    "\n",
    "    return results\n",
    "\n",
    "alm = make_nac('day5.txt')\n",
    "maybe = process_almanac_two(alm)\n",
    "min(maybe[-1])\n",
    "\n"
   ]
  },
  {
   "cell_type": "code",
   "execution_count": 352,
   "metadata": {},
   "outputs": [
    {
     "name": "stdout",
     "output_type": "stream",
     "text": [
      "[79, 14, 55, 13]\n"
     ]
    }
   ],
   "source": [
    "process_a_lot_of_seeds([79, 14, 55, 13])\n"
   ]
  },
  {
   "cell_type": "code",
   "execution_count": 372,
   "metadata": {},
   "outputs": [
    {
     "data": {
      "text/plain": [
       "27"
      ]
     },
     "execution_count": 372,
     "metadata": {},
     "output_type": "execute_result"
    }
   ],
   "source": [
    "popo = []\n",
    "popo2 = []\n",
    "popu = [79, 14, 55, 13]\n",
    "popu2 = [79, 14, 55, 13, 79, 14, 55, 13, 79, 14, 55, 13]\n",
    "for i in range(0, len(popu), 2):\n",
    "    popo.append([popu[i],popu[i+1]])\n",
    "for i in popo:\n",
    "    for j in range(i[1]):\n",
    "        popo2.append(j + i[0])\n",
    "len(popo2)"
   ]
  }
 ],
 "metadata": {
  "kernelspec": {
   "display_name": "Python 3",
   "language": "python",
   "name": "python3"
  },
  "language_info": {
   "codemirror_mode": {
    "name": "ipython",
    "version": 3
   },
   "file_extension": ".py",
   "mimetype": "text/x-python",
   "name": "python",
   "nbconvert_exporter": "python",
   "pygments_lexer": "ipython3",
   "version": "3.12.0"
  }
 },
 "nbformat": 4,
 "nbformat_minor": 2
}
