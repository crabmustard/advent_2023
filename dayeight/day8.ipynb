{
 "cells": [
  {
   "cell_type": "code",
   "execution_count": 2,
   "metadata": {},
   "outputs": [],
   "source": [
    "from math import lcm\n",
    "\n",
    "def read_file(file):\n",
    "    with open(file, 'r') as f:\n",
    "        nodes = f.readlines()\n",
    "        f.close()\n",
    "    instructions = nodes[0].strip()\n",
    "    node_list = {}\n",
    "    for i in nodes[2:]:\n",
    "        node = i[:3]\n",
    "        left = i[7:10]\n",
    "        right = i[12:15]\n",
    "        node_list[node] = (left, right)\n",
    "    return instructions, node_list\n",
    "\n",
    "def run_game(file):\n",
    "    inst, nodes = read_file(file)\n",
    "    count = 0\n",
    "    a_list = list(filter(lambda x: x[2] == 'A', nodes.keys()))\n",
    "    searching = True\n",
    "\n",
    "    return inst, nodes, a_list\n",
    "inst, nodes, a_list = run_game('day8.txt')"
   ]
  },
  {
   "cell_type": "code",
   "execution_count": 3,
   "metadata": {},
   "outputs": [
    {
     "name": "stdout",
     "output_type": "stream",
     "text": [
      "[16043, 20777, 13939, 18673, 11309, 17621]\n",
      "13740108158591\n"
     ]
    }
   ],
   "source": [
    "counts = []\n",
    "\n",
    "for k in a_list:\n",
    "    count = 1\n",
    "    cur = k\n",
    "    f = 0\n",
    "    while f == 0:\n",
    "        for i in inst:\n",
    "            rt, lt = nodes[cur][1], nodes[cur][0]\n",
    "            if i == 'L':\n",
    "                cur = lt\n",
    "            elif i == 'R':\n",
    "                cur = rt\n",
    "            if cur[2] == 'Z' and count != 0:\n",
    "                f = 1\n",
    "                counts.append(count)\n",
    "                break    \n",
    "            else:\n",
    "                count += 1   \n",
    "print(counts)        \n",
    "print(lcm(*counts))"
   ]
  },
  {
   "cell_type": "code",
   "execution_count": 6,
   "metadata": {},
   "outputs": [
    {
     "data": {
      "text/plain": [
       "[856455037.0, 661313383.0, 985731269.0, 735827567.0, 1214971099.0, 779757571.0]"
      ]
     },
     "execution_count": 6,
     "metadata": {},
     "output_type": "execute_result"
    }
   ],
   "source": [
    "[13740108158591 / 16043, 13740108158591 / 20777, 13740108158591 / 13939, 13740108158591 / 18673, 13740108158591 / 11309, 13740108158591 / 17621]\n",
    "[856,000,000, 661,000,000, 985,000,000, 735,000,000, 1214,000,000, 779,000,000]"
   ]
  }
 ],
 "metadata": {
  "kernelspec": {
   "display_name": "Python 3",
   "language": "python",
   "name": "python3"
  },
  "language_info": {
   "codemirror_mode": {
    "name": "ipython",
    "version": 3
   },
   "file_extension": ".py",
   "mimetype": "text/x-python",
   "name": "python",
   "nbconvert_exporter": "python",
   "pygments_lexer": "ipython3",
   "version": "3.12.0"
  }
 },
 "nbformat": 4,
 "nbformat_minor": 2
}
