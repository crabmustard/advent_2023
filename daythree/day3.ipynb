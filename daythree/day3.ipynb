{
 "cells": [
  {
   "cell_type": "code",
   "execution_count": 49,
   "metadata": {},
   "outputs": [
    {
     "name": "stdout",
     "output_type": "stream",
     "text": [
      "0123456789\n",
      "!\"#$%&'()*+,-/:;=<>?@[\\]^_`{|}~\n"
     ]
    }
   ],
   "source": [
    "from pprint import pprint\n",
    "import string\n",
    "symbol_string = '''!\"#$%&'()*+,-/:;=<>?@[\\\\]^_`{|}~'''\n",
    "symbolstring = symbolstring.replace('.','')\n",
    "numberstring = string.digits\n",
    "print(numberstring)\n",
    "print(symbolstring)"
   ]
  },
  {
   "cell_type": "code",
   "execution_count": 92,
   "metadata": {},
   "outputs": [
    {
     "name": "stdout",
     "output_type": "stream",
     "text": [
      "['...@..43..', '345....#..', '.....32...']\n"
     ]
    }
   ],
   "source": [
    "inputconfig = '''...@..43..\n",
    "345....#..\n",
    ".....32...'''\n",
    "splitconfig = inputconfig.splitlines()\n",
    "pprint(splitconfig)"
   ]
  },
  {
   "cell_type": "code",
   "execution_count": 98,
   "metadata": {},
   "outputs": [
    {
     "name": "stdout",
     "output_type": "stream",
     "text": [
      "True False True True True True True True\n",
      "3\n"
     ]
    }
   ],
   "source": [
    "symbol_idx = []\n",
    "for i in range(len(splitconfig)):\n",
    "    for j in range(len(splitconfig[i])):\n",
    "        if splitconfig[i][j] in symbolstring:\n",
    "            symbol_idx.append([i, j])\n",
    "\n",
    "\n",
    "def check_around_symbols(strinput, i, j):\n",
    "    topl = strinput[i-1][j-1] in numberstring\n",
    "    topc = strinput[i-1][j] in numberstring\n",
    "    topr = strinput[i-1][j+1] in numberstring\n",
    "    botl = strinput[i+1][j-1] in numberstring\n",
    "    botc = strinput[i+1][j] in numberstring\n",
    "    botr = strinput[i+1][j+1] in numberstring\n",
    "    midl = strinput[i][j-1] in numberstring\n",
    "    midr = strinput[i][j+1] in numberstring\n",
    "    print(topl, topc, topr, midl, midr, botl, botc, botr)\n",
    "    if topc: \n",
    "        print(''.join(list(filter(lambda x: x.isdigit(), strinput[i-1][j-3:j+3]))))\n",
    "    elif topr:\n",
    "        print(''.join(list(filter(lambda x: x.isdigit(), strinput[i-1][j:j+3]))))\n",
    "    elif topl and not topr and not topc:\n",
    "        print(''.join(list(filter(lambda x: x.isdigit(), strinput[i-1][j:j+3]))))\n",
    "    \n",
    "\n",
    "check_around_symbols(splitconfig, 1,7)\n",
    "\n",
    "\n",
    "\n",
    "\n",
    "    "
   ]
  }
 ],
 "metadata": {
  "kernelspec": {
   "display_name": "Python 3",
   "language": "python",
   "name": "python3"
  },
  "language_info": {
   "codemirror_mode": {
    "name": "ipython",
    "version": 3
   },
   "file_extension": ".py",
   "mimetype": "text/x-python",
   "name": "python",
   "nbconvert_exporter": "python",
   "pygments_lexer": "ipython3",
   "version": "3.12.0"
  }
 },
 "nbformat": 4,
 "nbformat_minor": 2
}
