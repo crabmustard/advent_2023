{
 "cells": [
  {
   "cell_type": "code",
   "execution_count": null,
   "metadata": {},
   "outputs": [],
   "source": [
    "def open_file(file):\n",
    "    data = open(file, 'r').read()\n",
    "    data = data.split('\\n\\n')\n",
    "    for i in range(len(data)):\n",
    "        data[i] = data[i].split()\n",
    "    return data\n",
    "\n",
    "def make_cols(grid):\n",
    "    cols = []\n",
    "    for i in range(len(grid[0])):\n",
    "        cr = ''\n",
    "        for row in grid:\n",
    "            cr += row[i]\n",
    "        cols.append(cr) \n",
    "    return cols\n",
    "\n",
    "def find_reflection(grid):\n",
    "    ref_index = []\n",
    "    t_index = 0\n",
    "    for i in range(len(grid)-1):\n",
    "        if grid[i] == grid[i+1]:\n",
    "            ref_index.append(i+1)\n",
    "    for i in ref_index:\n",
    "        mirror = list(zip(grid[i::-1],grid[i-1:]))\n",
    "        not_match = 0\n",
    "        for pair in mirror:\n",
    "            if pair[0] != pair[1]:\n",
    "                not_match = 1\n",
    "        if not_match == 0:\n",
    "            t_index = i\n",
    "    return t_index\n",
    "        \n",
    "\n",
    "\n",
    "in_data = open_file('day13.txt')\n",
    "total = 0\n",
    "for i in range(len(in_data)):\n",
    "\n",
    "    run_total = 0\n",
    "    rows = in_data[i]\n",
    "    cols = make_cols(rows)\n",
    "    x = find_reflection(rows)\n",
    "    y = find_reflection(cols)\n",
    "    if x:\n",
    "        run_total += 100 * x\n",
    "    if y:\n",
    "        run_total += y\n",
    "    print(f'{total}\\t{run_total}\\t{x}\\t{y}\\t{i}')\n",
    "\n",
    "    total += run_total\n",
    "total\n",
    "\n"
   ]
  }
 ],
 "metadata": {
  "kernelspec": {
   "display_name": "Python 3",
   "language": "python",
   "name": "python3"
  },
  "language_info": {
   "codemirror_mode": {
    "name": "ipython",
    "version": 3
   },
   "file_extension": ".py",
   "mimetype": "text/x-python",
   "name": "python",
   "nbconvert_exporter": "python",
   "pygments_lexer": "ipython3",
   "version": "3.12.1"
  }
 },
 "nbformat": 4,
 "nbformat_minor": 2
}
