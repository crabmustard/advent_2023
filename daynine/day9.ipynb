{
 "cells": [
  {
   "cell_type": "code",
   "execution_count": 5,
   "metadata": {},
   "outputs": [],
   "source": [
    "race1 = 71530\n",
    "dist1 = 940200\n",
    "race2 = 55826490\n",
    "dist2 = 246144110121111\n",
    "\n",
    "def find_possible(time, record):\n",
    "    first = int(record/time)\n",
    "    last = time - first * 2\n",
    "    min_time = 0\n",
    "    max_time = 0\n",
    "    for mi in range(first, first * 2):\n",
    "        trav = mi * (time - mi)\n",
    "        if trav > record:\n",
    "            min_time = mi\n",
    "            break\n",
    "    for ma in range(last, time-first):\n",
    "        trav = ma * (time - ma)\n",
    "        if trav < record:\n",
    "            max_time = ma\n",
    "            break\n",
    "    return (max_time - min_time)\n",
    "\n",
    "def find_possible_rev(time, record):\n",
    "    first = int(record/time)\n",
    "    last = time - first * 2\n",
    "    min_time = 0\n",
    "    max_time = 0\n",
    "    mif = False\n",
    "    maf = False\n",
    "    for mi in range(first, first * 2):\n",
    "        if mif == True:\n",
    "            break\n",
    "        else:\n",
    "            trav = mi * (time - mi)\n",
    "            if trav > record:\n",
    "                min_time = mi\n",
    "                mif = True\n",
    "                break\n",
    "    for ma in range(last, time-first):\n",
    "        if maf == True:\n",
    "            break\n",
    "        else:\n",
    "            trav = ma * (time - ma)\n",
    "            if trav < record:\n",
    "                max_time = ma\n",
    "                maf = True\n",
    "                break\n",
    "    return max_time - min_time\n",
    "\n",
    "def find_possible_rev2(time, record):\n",
    "    first = int(record/time)\n",
    "    last = time - first * 2\n",
    "    min_time = 0\n",
    "    max_time = 0\n",
    "    mif = False\n",
    "    maf = False\n",
    "    for mi in range(first, first * 2):\n",
    "        if mif == True:\n",
    "            break\n",
    "        else:\n",
    "            trav = mi * (time - mi)\n",
    "            if trav > record:\n",
    "                min_time = mi\n",
    "                mif = True\n",
    "                break\n",
    "    for ma in range(time - first, last, -1):\n",
    "        if maf == True:\n",
    "            break\n",
    "        else:\n",
    "            trav = ma * (time - ma)\n",
    "            if trav > record:\n",
    "                max_time = ma+1\n",
    "                maf = True\n",
    "                break\n",
    "    return max_time - min_time\n",
    "\n"
   ]
  },
  {
   "cell_type": "code",
   "execution_count": 89,
   "metadata": {},
   "outputs": [
    {
     "name": "stdout",
     "output_type": "stream",
     "text": [
      "46173809\n",
      "(51000150, 4826341)\n"
     ]
    }
   ],
   "source": [
    "print(find_possible_rev(race2, dist2))\n",
    "print(find_possible_rev2(race2, dist2))\n"
   ]
  },
  {
   "cell_type": "code",
   "execution_count": 6,
   "metadata": {},
   "outputs": [
    {
     "name": "stdout",
     "output_type": "stream",
     "text": [
      "0.11019040015526116\n"
     ]
    }
   ],
   "source": [
    "import time\n",
    "t1 = time.perf_counter()\n",
    "find_possible_rev2(race2, dist2)\n",
    "t2 = time.perf_counter()\n",
    "print(t2-t1)"
   ]
  },
  {
   "cell_type": "code",
   "execution_count": 7,
   "metadata": {},
   "outputs": [
    {
     "name": "stdout",
     "output_type": "stream",
     "text": [
      "0.5483144999016076\n"
     ]
    }
   ],
   "source": [
    "t1 = time.perf_counter()\n",
    "find_possible_rev(race2, dist2)\n",
    "t2 = time.perf_counter()\n",
    "print(t2-t1)"
   ]
  }
 ],
 "metadata": {
  "kernelspec": {
   "display_name": "Python 3",
   "language": "python",
   "name": "python3"
  },
  "language_info": {
   "codemirror_mode": {
    "name": "ipython",
    "version": 3
   },
   "file_extension": ".py",
   "mimetype": "text/x-python",
   "name": "python",
   "nbconvert_exporter": "python",
   "pygments_lexer": "ipython3",
   "version": "3.12.0"
  }
 },
 "nbformat": 4,
 "nbformat_minor": 2
}
