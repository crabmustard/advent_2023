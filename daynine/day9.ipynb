{
 "cells": [
  {
   "cell_type": "code",
   "execution_count": 63,
   "metadata": {},
   "outputs": [],
   "source": [
    "def find_diff_left(in_list, total):\n",
    "    run_total = total\n",
    "    if all([d == 0 for d in in_list]):\n",
    "        in_list.insert(0, 0)\n",
    "        return in_list, run_total\n",
    "    else: \n",
    "        diffs = [in_list[i] - in_list[i-1] for i in range(1, len(in_list))]\n",
    "        f = find_diff_left(diffs, run_total)\n",
    "        diff = in_list[0] - f[1]\n",
    "        in_list.insert(0, diff)\n",
    "        run_total += diff\n",
    "        return in_list, run_total\n",
    "\n",
    "def find_diff_right(in_list, total):\n",
    "    run_total = total\n",
    "    if all([d == 0 for d in in_list]):\n",
    "        in_list.append(0)\n",
    "        return in_list, run_total\n",
    "    else: \n",
    "        diffs = [in_list[i] - in_list[i-1] for i in range(1, len(in_list))]\n",
    "        f = find_diff_right(diffs, run_total)\n",
    "        diff = in_list[-1] + f[-1]\n",
    "        in_list.append(diff)\n",
    "        run_total += diff\n",
    "        return in_list, run_total"
   ]
  },
  {
   "cell_type": "code",
   "execution_count": 64,
   "metadata": {},
   "outputs": [],
   "source": [
    "def test_one(file):\n",
    "    final_list = []\n",
    "    data = open(file, 'r').readlines()\n",
    "    for i in range(len(data)):\n",
    "        current = [int(l) for l in data[i].strip().split()]\n",
    "        final_list.append(find_diff_right(current, 0)[1])\n",
    "    final_tally = 0\n",
    "    for i in final_list:\n",
    "        final_tally += i\n",
    "    return final_tally\n",
    "\n",
    "def test_two(file):\n",
    "    final_list = []\n",
    "    data = open(file, 'r').readlines()\n",
    "    for i in range(len(data)):\n",
    "        current = [int(l) for l in data[i].strip().split()]\n",
    "        final_list.append(find_diff_left(current, 0)[1])\n",
    "    final_tally = 0\n",
    "    for i in final_list:\n",
    "        final_tally += i\n",
    "    return final_tally"
   ]
  },
  {
   "cell_type": "code",
   "execution_count": 66,
   "metadata": {},
   "outputs": [
    {
     "name": "stdout",
     "output_type": "stream",
     "text": [
      "Part one: 1762065988\n",
      "Part two: 1066\n"
     ]
    }
   ],
   "source": [
    "t1 = test_one('day9.txt')\n",
    "t2 = test_two('day9.txt')\n",
    "print(f'Part one: {t1}\\nPart two: {t2}')"
   ]
  },
  {
   "cell_type": "code",
   "execution_count": 62,
   "metadata": {},
   "outputs": [
    {
     "data": {
      "text/plain": [
       "1066"
      ]
     },
     "execution_count": 62,
     "metadata": {},
     "output_type": "execute_result"
    }
   ],
   "source": [
    "def find_diff_left(in_list, total):\n",
    "    run_total = total\n",
    "    if all([d == 0 for d in in_list]):\n",
    "        in_list.insert(0, 0)\n",
    "        return in_list, run_total\n",
    "\n",
    "    else: \n",
    "        diffs = [in_list[i] - in_list[i-1] for i in range(1, len(in_list))]\n",
    "        f = find_diff_left(diffs, run_total)\n",
    "        diff = in_list[0] - f[1]\n",
    "        in_list.insert(0, diff)\n",
    "        run_total += diff\n",
    "        return in_list, run_total\n",
    "\n",
    "data = open('day9.txt', 'r').readlines()\n",
    "test1 = data.copy()   \n",
    "\n",
    "final_list = []\n",
    "for i in range(len(test1)):\n",
    "    current = [int(l) for l in test1[i].strip().split()]\n",
    "    final_list.append(find_diff_left(current, 0)[1])\n",
    "final_tally = 0\n",
    "for i in final_list:\n",
    "    final_tally += i\n",
    "final_tally"
   ]
  }
 ],
 "metadata": {
  "kernelspec": {
   "display_name": "Python 3",
   "language": "python",
   "name": "python3"
  },
  "language_info": {
   "codemirror_mode": {
    "name": "ipython",
    "version": 3
   },
   "file_extension": ".py",
   "mimetype": "text/x-python",
   "name": "python",
   "nbconvert_exporter": "python",
   "pygments_lexer": "ipython3",
   "version": "3.12.0"
  }
 },
 "nbformat": 4,
 "nbformat_minor": 2
}
