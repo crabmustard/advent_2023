{
 "cells": [
  {
   "cell_type": "code",
   "execution_count": 401,
   "metadata": {},
   "outputs": [
    {
     "data": {
      "text/plain": [
       "622120986954"
      ]
     },
     "execution_count": 401,
     "metadata": {},
     "output_type": "execute_result"
    }
   ],
   "source": [
    "grid = get_file('day11.txt')\n",
    "grid, galaxy, diffs = make_grid(grid)\n",
    "after = check_distances(galaxy, diffs)\n",
    "# 2nd parameter: 1 for test1, 999999 for test2\n",
    "after2 = sum_total(after, 999999)\n",
    "after2"
   ]
  },
  {
   "cell_type": "code",
   "execution_count": 400,
   "metadata": {},
   "outputs": [],
   "source": [
    "def get_file(file):\n",
    "    f = open(file, 'r').read().split()\n",
    "    return f\n",
    "    \n",
    "def make_grid(list_file):\n",
    "    grid = list_file    \n",
    "    checker = []\n",
    "    for i in range(len(grid)):\n",
    "        for k in range(len(grid[i])):\n",
    "            if grid[i][k] == '#':\n",
    "                checker.append([i, k])\n",
    "    xset = set()\n",
    "    yset = set()\n",
    "    ref_set = set(i for i in range(len(grid)))\n",
    "    for i in checker:\n",
    "        yset.add(i[0])\n",
    "        xset.add(i[1])\n",
    "\n",
    "    # lists of empty rows and columns to use when calculating expansion\n",
    "    diff = [list(ref_set.difference(yset)), list(ref_set.difference(xset))]\n",
    "    \n",
    "    \n",
    "    \n",
    "    # creates a new list with the expansion added. ok for first part.\n",
    "\n",
    "    # new_grid = []\n",
    "\n",
    "    # for i in grid:\n",
    "    #     new = list(i)\n",
    "    #     for j in sorted(diff[1])[::-1]:\n",
    "    #         new.insert(j, '@')\n",
    "    #     new_grid.append(''.join(new))\n",
    "    # for k in sorted(diff[0])[::-1]:\n",
    "    #     new_grid.insert(k, '@' * len(new_grid[0]))\n",
    "    # checker = []\n",
    "    # for i in range(len(new_grid)):\n",
    "    #     for k in range(len(new_grid[i])):\n",
    "    #         if new_grid[i][k] == '#':\n",
    "    #             checker.append([i, k])\n",
    "\n",
    "    return grid, checker, diff\n",
    "\n",
    "# gets the distance and any crossings over expansion\n",
    "def get_distance(g1, g2, diffs):\n",
    "    millions = 0\n",
    "    y1, y2, x1, x2 = g1[0], g2[0], g1[1], g2[1]\n",
    "    ydel = abs(y2 - y1)\n",
    "    xdel = abs(x2 - x1)\n",
    "    for i in diffs[0]:\n",
    "        if min(y2,y1) < i < max(y2, y1):\n",
    "            millions += 1\n",
    "    for j in diffs[1]:\n",
    "        if min(x2, x1) < j < max(x2, x1):\n",
    "            millions += 1\n",
    "    return ydel + xdel, millions\n",
    "\n",
    "def check_distances(galaxy, diffs):\n",
    "    distances = []\n",
    "    for k in galaxy:\n",
    "        for i in range(1, len(galaxy)):\n",
    "            distances.append(get_distance(k, galaxy[i], diffs))\n",
    "        galaxy = galaxy[1:]\n",
    "    return distances\n",
    "\n",
    "def sum_total(distances, mult):\n",
    "    total = 0\n",
    "    for i in distances:\n",
    "        d1 = i[0]\n",
    "        d2 = i[1]\n",
    "        total += d1 + d2*mult\n",
    "    return total\n"
   ]
  }
 ],
 "metadata": {
  "kernelspec": {
   "display_name": "Python 3",
   "language": "python",
   "name": "python3"
  },
  "language_info": {
   "codemirror_mode": {
    "name": "ipython",
    "version": 3
   },
   "file_extension": ".py",
   "mimetype": "text/x-python",
   "name": "python",
   "nbconvert_exporter": "python",
   "pygments_lexer": "ipython3",
   "version": "3.12.0"
  }
 },
 "nbformat": 4,
 "nbformat_minor": 2
}
