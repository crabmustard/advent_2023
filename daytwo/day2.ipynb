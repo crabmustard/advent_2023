{
 "cells": [
  {
   "cell_type": "code",
   "execution_count": 175,
   "metadata": {},
   "outputs": [],
   "source": [
    "\n",
    "\n",
    "def read_games(file):\n",
    "    count = 0\n",
    "    product_sum = 0\n",
    "    with open(file, 'r') as f:\n",
    "        while load_line := f.readline():\n",
    "            game_number, cleaned = clean_line(load_line)\n",
    "            p_to_sum = find_minimum_values(cleaned)\n",
    "            product_sum += p_to_sum\n",
    "    return product_sum\n",
    "            \n",
    "def clean_line(line):\n",
    "    colon = line.find(':')\n",
    "    game_no = int(line[:colon].strip('Game'))\n",
    "    cube_draws = []\n",
    "    still_to_process = line[colon + 2:-1]\n",
    "    still_to_process = still_to_process.split('; ')\n",
    "    for i in range(len(still_to_process)):\n",
    "        split_values = still_to_process[i]\n",
    "        split_values = split_values.split(', ')\n",
    "        for j in range(len(split_values)):\n",
    "            split_values[j] = split_values[j].split(' ')\n",
    "            split_values[j][0] = int(split_values[j][0])\n",
    "\n",
    "        cube_draws.append(split_values)\n",
    "    return game_no, cube_draws\n",
    "\n",
    "def find_minimum_values(cln):\n",
    "    min_red = 0\n",
    "    min_green = 0\n",
    "    min_blue = 0\n",
    "    for chicken in cln:\n",
    "        for chunk in chicken:\n",
    "            ccolor = chunk[1]\n",
    "            ccount = chunk[0]\n",
    "            if ccolor == 'red' and ccount > min_red:\n",
    "                min_red = ccount\n",
    "            elif ccolor == 'blue' and ccount > min_blue:\n",
    "                min_blue = ccount\n",
    "            elif ccolor == 'green' and ccount > min_green:\n",
    "                min_green = ccount\n",
    "    product = min_red * min_blue * min_green\n",
    "    return product\n",
    "\n",
    "        \n",
    "\n",
    "\n",
    "\n",
    "\n",
    "\n",
    "\n"
   ]
  },
  {
   "cell_type": "code",
   "execution_count": 176,
   "metadata": {},
   "outputs": [
    {
     "name": "stdout",
     "output_type": "stream",
     "text": [
      "62241\n"
     ]
    }
   ],
   "source": [
    "s = read_games('day2.txt')\n",
    "print(s)\n",
    "\n",
    "            "
   ]
  },
  {
   "cell_type": "code",
   "execution_count": 167,
   "metadata": {},
   "outputs": [
    {
     "name": "stdout",
     "output_type": "stream",
     "text": [
      "[[[1, 'green'], [3, 'red'], [6, 'blue']], [[3, 'green'], [6, 'red']], [[3, 'green'], [15, 'blue'], [14, 're']]]\n",
      "0\n",
      "0\n"
     ]
    }
   ],
   "source": [
    "game_string = 'Game 4: 1 green, 3 red, 6 blue; 3 green, 6 red; 3 green, 15 blue, 14 red'\n",
    "game_number, cleaned_game_string = clean_line(game_string)\n",
    "print(cleaned_game_string)\n",
    "s = find_minimum_values(cleaned_game_string)\n",
    "print(s)"
   ]
  }
 ],
 "metadata": {
  "kernelspec": {
   "display_name": "Python 3",
   "language": "python",
   "name": "python3"
  },
  "language_info": {
   "codemirror_mode": {
    "name": "ipython",
    "version": 3
   },
   "file_extension": ".py",
   "mimetype": "text/x-python",
   "name": "python",
   "nbconvert_exporter": "python",
   "pygments_lexer": "ipython3",
   "version": "3.12.0"
  }
 },
 "nbformat": 4,
 "nbformat_minor": 2
}
